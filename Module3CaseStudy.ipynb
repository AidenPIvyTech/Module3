{
 "cells": [
  {
   "cell_type": "code",
   "execution_count": 1,
   "id": "9ea08475-f629-47de-a7ed-ccc10284766c",
   "metadata": {},
   "outputs": [
    {
     "name": "stdout",
     "output_type": "stream",
     "text": [
      "Vehicle Type: type\n",
      "Year: 2002\n",
      "Make: make\n",
      "Model: model\n",
      "Number of doors: doors\n",
      "Type of roof: sun roof\n"
     ]
    }
   ],
   "source": [
    "class Vehicle:\n",
    "    #defines the type of vehicle\n",
    "    def __init__(self, vehicleType):\n",
    "        self.vehicleType = vehicleType\n",
    "\n",
    "    #prints the type of vehicle, then calls a method from the Automobile class\n",
    "    def printInfo(self):\n",
    "        print(\"Vehicle Type:\", self.vehicleType)\n",
    "        Automobile.displayCarInfo(self)\n",
    "\n",
    "    \n",
    "class Automobile(Vehicle):\n",
    "    #defines inforation about the vehicle\n",
    "    def __init__(self, year, make, model, doors, roof):\n",
    "        self.year = year\n",
    "        self.make = make\n",
    "        self.model = model\n",
    "        self.doors = doors\n",
    "        self.roof = roof\n",
    "    \n",
    "    #prints all the vehicle information\n",
    "    def displayCarInfo(self):\n",
    "        print(\"Year:\",Automobile.year)\n",
    "        print(\"Make:\",Automobile.make)\n",
    "        print(\"Model:\",Automobile.model)\n",
    "        print(\"Number of doors:\",Automobile.doors)\n",
    "        print(\"Type of roof:\",Automobile.roof)\n",
    "\n",
    "#collects car information from the user and initializes the vehicle object\n",
    "def askUser():\n",
    "    VehicleType = input(\"What type of vehicle?\")\n",
    "    car = Vehicle(VehicleType)\n",
    "    Automobile.year = input(\"What year is the vehicle?\")\n",
    "    Automobile.make = input(\"What is the make of the vehicle?\")\n",
    "    Automobile.model = input(\"What is the model?\")\n",
    "    Automobile.doors = input(\"How many doors?\")\n",
    "    Automobile.roof = input(\"What type of roof?\")\n",
    "    car.printInfo()\n",
    "    \n",
    "\n",
    "askUser()\n",
    "\n",
    "    \n",
    "\n",
    "\n",
    "    "
   ]
  },
  {
   "cell_type": "code",
   "execution_count": null,
   "id": "e96be50d-764b-418d-bfd4-0317775fc6f6",
   "metadata": {},
   "outputs": [],
   "source": []
  }
 ],
 "metadata": {
  "kernelspec": {
   "display_name": "Python 3",
   "language": "python",
   "name": "python3"
  },
  "language_info": {
   "codemirror_mode": {
    "name": "ipython",
    "version": 3
   },
   "file_extension": ".py",
   "mimetype": "text/x-python",
   "name": "python",
   "nbconvert_exporter": "python",
   "pygments_lexer": "ipython3",
   "version": "3.13.7"
  }
 },
 "nbformat": 4,
 "nbformat_minor": 5
}
