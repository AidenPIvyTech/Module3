{
 "cells": [
  {
   "cell_type": "code",
   "execution_count": 1,
   "id": "9ea08475-f629-47de-a7ed-ccc10284766c",
   "metadata": {},
   "outputs": [
    {
     "name": "stdout",
     "output_type": "stream",
     "text": [
      "Year: 2022\n",
      "Make: Toyota\n",
      "Model: Corolla\n",
      "Number of doors: 4\n",
      "Type of roof: sun roof\n"
     ]
    }
   ],
   "source": [
    "class Vehicle:\n",
    "    #defines the type of vehicle\n",
    "    def __init__(self, vehicleType):\n",
    "        self.vehicleType = vehicleType\n",
    "    \n",
    "class Automobile(Vehicle): \n",
    "    def __init__(self, vehicleType, year, make, model, doors, roof):\n",
    "        super().__init__(vehicleType)\n",
    "        self.vehicleType = vehicleType\n",
    "        self.year = year\n",
    "        self.make = make\n",
    "        self.model = model\n",
    "        self.doors = doors\n",
    "        self.roof = roof\n",
    "    \n",
    "    #prints all the vehicle information\n",
    "    def displayCarInfo(self):\n",
    "        print(\"Year:\",self.year)\n",
    "        print(\"Make:\",self.make)\n",
    "        print(\"Model:\",self.model)\n",
    "        print(\"Number of doors:\",self.doors)\n",
    "        print(\"Type of roof:\",self.roof)\n",
    "\n",
    "#collects car information from the user and initializes the vehicle object\n",
    "def main():\n",
    "    vehicleType = input(\"What type of vehicle?\")\n",
    "    year = input(\"What year is the vehicle?\")\n",
    "    make = input(\"What is the make of the vehicle?\")\n",
    "    model = input(\"What is the model?\")\n",
    "    doors = input(\"How many doors?\")\n",
    "    roof = input(\"What type of roof?\")\n",
    "    my_car = Automobile(vehicleType, year, make, model, doors, roof)\n",
    "    my_car.displayCarInfo()\n",
    "    \n",
    "\n",
    "main()\n",
    "\n",
    "    \n",
    "\n",
    "\n",
    "    "
   ]
  },
  {
   "cell_type": "code",
   "execution_count": null,
   "id": "e96be50d-764b-418d-bfd4-0317775fc6f6",
   "metadata": {},
   "outputs": [],
   "source": []
  }
 ],
 "metadata": {
  "kernelspec": {
   "display_name": "Python 3",
   "language": "python",
   "name": "python3"
  },
  "language_info": {
   "codemirror_mode": {
    "name": "ipython",
    "version": 3
   },
   "file_extension": ".py",
   "mimetype": "text/x-python",
   "name": "python",
   "nbconvert_exporter": "python",
   "pygments_lexer": "ipython3",
   "version": "3.13.7"
  }
 },
 "nbformat": 4,
 "nbformat_minor": 5
}
