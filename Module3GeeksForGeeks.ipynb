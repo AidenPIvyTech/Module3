{
 "cells": [
  {
   "cell_type": "code",
   "execution_count": 6,
   "id": "71d37ba8-6d19-45b0-a1be-d5fb39de33a5",
   "metadata": {},
   "outputs": [
    {
     "data": {
      "text/plain": [
       "[0, 0, 0, 1, 1, 1, 1, 1, 1, 2, 2, 2, 2]"
      ]
     },
     "execution_count": 6,
     "metadata": {},
     "output_type": "execute_result"
    }
   ],
   "source": [
    "#1\n",
    "class Solution:\n",
    "    def sort012(self, arr):\n",
    "        x0 = 0\n",
    "        x1 = 0\n",
    "        x2 = 0\n",
    "        index = 0\n",
    "      \n",
    "        for number in arr:\n",
    "            if number == 0:\n",
    "               x0 = x0 + 1\n",
    "            elif number == 1:\n",
    "                x1 = x1 + 1\n",
    "            else:\n",
    "                x2 = x2 + 1\n",
    "               \n",
    "        for x in range(x0):\n",
    "            arr[index] = 0\n",
    "            index = index + 1\n",
    "            \n",
    "        for x in range(x1):\n",
    "            arr[index] = 1\n",
    "            index = index + 1\n",
    "            \n",
    "        for x in range(x2):\n",
    "            arr[index] = 2\n",
    "            index = index + 1\n",
    "            \n",
    "        return arr\n",
    "\n",
    "array1 = Solution()\n",
    "array1.sort012([1,2,1,0,0,1,1,2,0,1,2,1,2])"
   ]
  },
  {
   "cell_type": "code",
   "execution_count": 38,
   "id": "18628da6-64d8-4fa0-9171-cb996360233d",
   "metadata": {},
   "outputs": [
    {
     "data": {
      "text/plain": [
       "0"
      ]
     },
     "execution_count": 38,
     "metadata": {},
     "output_type": "execute_result"
    }
   ],
   "source": [
    "#2\n",
    "class Solution:\n",
    "    def binarysearch(arr, k):\n",
    "        smallest = 0\n",
    "        largest = len(arr) - 1\n",
    "        while smallest <= largest:\n",
    "            middle = smallest + (largest - smallest) // 2\n",
    "            #checks if k is middle\n",
    "            if arr[middle] == k:\n",
    "                return middle\n",
    "            #checks if k is greater than the middle \n",
    "            elif arr[middle] < k:\n",
    "                smallest = middle + 1\n",
    "            #checks if k is less than the middle\n",
    "            elif arr[middle] > k:\n",
    "                largest = middle - 1\n",
    "            \n",
    "        return -1\n",
    "                \n",
    "        return middle\n",
    "\n",
    "testArray = Solution\n",
    "#testArray.binarysearch([11, 22, 33, 44, 55], 44)\n",
    "#testArray.binarysearch([11, 22, 33, 44, 55], 6)\n",
    "testArray.binarysearch([11, 11, 22, 33, 44], 11)\n",
    "                \n",
    "                \n",
    "\n",
    "                        \n",
    "                    \n",
    "            \n",
    "        "
   ]
  },
  {
   "cell_type": "code",
   "execution_count": null,
   "id": "98db9587-6a5a-4fd0-b696-526b5ed845ca",
   "metadata": {},
   "outputs": [],
   "source": []
  }
 ],
 "metadata": {
  "kernelspec": {
   "display_name": "Python 3",
   "language": "python",
   "name": "python3"
  },
  "language_info": {
   "codemirror_mode": {
    "name": "ipython",
    "version": 3
   },
   "file_extension": ".py",
   "mimetype": "text/x-python",
   "name": "python",
   "nbconvert_exporter": "python",
   "pygments_lexer": "ipython3",
   "version": "3.13.7"
  }
 },
 "nbformat": 4,
 "nbformat_minor": 5
}
