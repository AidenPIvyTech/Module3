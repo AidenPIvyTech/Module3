{
 "cells": [
  {
   "cell_type": "code",
   "execution_count": 5,
   "id": "c8e4e133-13f2-4480-a46e-e5c2f34ecaab",
   "metadata": {},
   "outputs": [
    {
     "name": "stdout",
     "output_type": "stream",
     "text": [
      "['mozzarella', 'Cinderella', 'salmonella']\n",
      "['MOZZARELLA', 'Cinderella', 'salmonella']\n",
      "['MOZZARELLA', 'Cinderella']\n"
     ]
    }
   ],
   "source": [
    "#7.4\n",
    "things = [\"mozzarella\",\"cinderella\", \"salmonella\"]\n",
    "\n",
    "#7.5\n",
    "things[1] = things[1].capitalize()\n",
    "print(things)\n",
    "#yes, the element was changed\n",
    "\n",
    "#7.6\n",
    "things[0] = things[0].upper()\n",
    "print(things)\n",
    "#yes, the element was changed\n",
    "\n",
    "#7.7\n",
    "del things[2]\n",
    "print(things)"
   ]
  },
  {
   "cell_type": "code",
   "execution_count": 12,
   "id": "6cd438f1-9f61-4b23-940d-9e0a7e63cea6",
   "metadata": {},
   "outputs": [],
   "source": [
    "#9.1\n",
    "def good():\n",
    "    return ['Harry', 'Ron', 'Hermione']"
   ]
  },
  {
   "cell_type": "code",
   "execution_count": 11,
   "id": "f526f3aa-4a64-457e-891c-73ad94435492",
   "metadata": {},
   "outputs": [
    {
     "name": "stdout",
     "output_type": "stream",
     "text": [
      "5\n"
     ]
    }
   ],
   "source": [
    "#9.2\n",
    "def getodds(first=0, last=10, step=2):\n",
    "    number = first\n",
    "    while number < last:\n",
    "        yield number\n",
    "        number += step\n",
    "\n",
    "ranger = getodds(1, 10)\n",
    "counter = 0\n",
    "for x in ranger:\n",
    "    counter = counter + 1\n",
    "    if counter == 3:\n",
    "        print(x)"
   ]
  },
  {
   "cell_type": "code",
   "execution_count": null,
   "id": "8ab46243-4135-4f5f-b83d-3f651fb3b108",
   "metadata": {},
   "outputs": [],
   "source": []
  }
 ],
 "metadata": {
  "kernelspec": {
   "display_name": "Python 3 (ipykernel)",
   "language": "python",
   "name": "python3"
  },
  "language_info": {
   "codemirror_mode": {
    "name": "ipython",
    "version": 3
   },
   "file_extension": ".py",
   "mimetype": "text/x-python",
   "name": "python",
   "nbconvert_exporter": "python",
   "pygments_lexer": "ipython3",
   "version": "3.13.5"
  }
 },
 "nbformat": 4,
 "nbformat_minor": 5
}
